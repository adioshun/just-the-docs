{
 "cells": [
  {
   "cell_type": "code",
   "execution_count": 2,
   "metadata": {},
   "outputs": [],
   "source": [
    "SEED = 202\n",
    "\n",
    "\n",
    "# std libs\n",
    "import glob\n",
    "\n",
    "# num libs\n",
    "import math\n",
    "import random\n",
    "import numpy as np\n",
    "random.seed(SEED)\n",
    "np.random.seed(SEED)\n",
    "\n",
    "import cv2"
   ]
  },
  {
   "cell_type": "code",
   "execution_count": 3,
   "metadata": {},
   "outputs": [],
   "source": [
    "##   cylindrial projection\n",
    "SURROUND_U_STEP = 1.    #resolution\n",
    "SURROUND_V_STEP = 1.33\n",
    "SURROUND_U_MIN, SURROUND_U_MAX = np.array([0,    360])/SURROUND_U_STEP  # horizontal of cylindrial projection\n",
    "SURROUND_V_MIN, SURROUND_V_MAX = np.array([-90,   90])/SURROUND_V_STEP  # vertical   of cylindrial projection\n"
   ]
  },
  {
   "cell_type": "code",
   "execution_count": 22,
   "metadata": {},
   "outputs": [],
   "source": [
    "def lidar_to_surround_coords_360(x, y, z, d ):\n",
    "    u =   np.arctan2(x, y)/np.pi*360 /SURROUND_U_STEP\n",
    "    v = - np.arctan2(z, d)/np.pi*360 /SURROUND_V_STEP\n",
    "    u = (u +90)%360  ##<todo> car will be spit into 2 at boundary  ...\n",
    "\n",
    "    u = np.rint(u)\n",
    "    v = np.rint(v)\n",
    "    u = (u - SURROUND_U_MIN).astype(np.uint8)\n",
    "    v = (v - SURROUND_V_MIN).astype(np.uint8)\n",
    "\n",
    "    return u,v\n"
   ]
  },
  {
   "cell_type": "code",
   "execution_count": 4,
   "metadata": {},
   "outputs": [],
   "source": [
    "def lidar_to_surround_coords_180(x, y, z, d ):\n",
    "    u =   np.arctan2(x, y)/np.pi*180 /SURROUND_U_STEP\n",
    "    v = - np.arctan2(z, d)/np.pi*180 /SURROUND_V_STEP\n",
    "    u = (u +90)%360  ##<todo> car will be spit into 2 at boundary  ...\n",
    "\n",
    "    u = np.rint(u)\n",
    "    v = np.rint(v)\n",
    "    u = (u - SURROUND_U_MIN).astype(np.uint8)\n",
    "    v = (v - SURROUND_V_MIN).astype(np.uint8)\n",
    "\n",
    "    return u,v\n"
   ]
  },
  {
   "cell_type": "code",
   "execution_count": 23,
   "metadata": {},
   "outputs": [],
   "source": [
    "def lidar_to_surround(lidar):\n",
    "    def normalise_to_255(a):\n",
    "        return (((a - min(a)) / float(max(a) - min(a))) * 255).astype(np.uint8)\n",
    "\n",
    "    x = lidar['x']\n",
    "    y = lidar['y']\n",
    "    z = lidar['z']\n",
    "    r = lidar['intensity']\n",
    "    d = np.sqrt(x ** 2 + y ** 2)  # map distance relative to origin\n",
    "    #u,v = lidar_to_surround_coords(x,y,z,d)\n",
    "    u,v = lidar_to_surround_coords_360(x,y,z,d)\n",
    "\n",
    "    width  = int(SURROUND_U_MAX - SURROUND_U_MIN + 1)\n",
    "    height = int(SURROUND_V_MAX - SURROUND_V_MIN + 1)\n",
    "    surround     = np.zeros((height, width, 3), dtype=np.float32)\n",
    "    surround_img = np.zeros((height, width, 3), dtype=np.uint8)\n",
    "\n",
    "    surround[v, u, 0] = d\n",
    "    surround[v, u, 1] = z\n",
    "    surround[v, u, 2] = r\n",
    "    surround_img[v, u, 0] = normalise_to_255(np.clip(d,     0, 30))\n",
    "    surround_img[v, u, 1] = normalise_to_255(np.clip(z+1.8, 0, 100))\n",
    "    surround_img[v, u, 2] = normalise_to_255(np.clip(r,     0, 30))\n",
    "\n",
    "    return surround, surround_img"
   ]
  },
  {
   "cell_type": "code",
   "execution_count": 6,
   "metadata": {},
   "outputs": [],
   "source": [
    "# drawing ####\n",
    "def box3d_to_surround_box(boxes3d):\n",
    "    is_reshape = boxes3d.shape==(8,3) #support for single box3d\n",
    "\n",
    "    if is_reshape:\n",
    "        boxes3d = boxes3d.reshape(1,8,3)\n",
    "\n",
    "    num = len(boxes3d)\n",
    "    surround_boxes = np.zeros((num,4),  dtype=np.float32)\n",
    "    for n in range(num):\n",
    "        b = boxes3d[n]\n",
    "\n",
    "        x = b[:,0]\n",
    "        y = b[:,1]\n",
    "        z = b[:,2]\n",
    "        d = np.sqrt(x ** 2 + y ** 2)\n",
    "        u,v = lidar_to_surround_coords(x,y,z,d)\n",
    "        umin,umax = np.min(u),np.max(u)\n",
    "        vmin,vmax = np.min(v),np.max(v)\n",
    "        surround_boxes[n] = np.array([umin,vmin,umax,vmax])\n",
    "\n",
    "    if is_reshape:\n",
    "        surround_boxes = surround_boxes.squeeze()\n",
    "\n",
    "    return surround_boxes"
   ]
  },
  {
   "cell_type": "code",
   "execution_count": 7,
   "metadata": {},
   "outputs": [],
   "source": [
    "def draw_box3d_on_surround(image, boxes3d, color=(255,255,255)):\n",
    "\n",
    "    surround_boxes = box3d_to_surround_box(boxes3d)\n",
    "    is_reshape = surround_boxes.shape==(4)\n",
    "    if is_reshape:\n",
    "        surround_boxes = surround_boxes.reshape(1,4)\n",
    "\n",
    "    num = len(surround_boxes)\n",
    "    for n in range(num):\n",
    "        b = surround_boxes[n]\n",
    "        x1,y1,x2,y2  = b\n",
    "        cv2.rectangle(image,(x1,y1),(x2,y2),color,1,cv2.LINE_AA)"
   ]
  },
  {
   "cell_type": "code",
   "execution_count": 9,
   "metadata": {},
   "outputs": [],
   "source": [
    "lidar_dir = './npy'"
   ]
  },
  {
   "cell_type": "code",
   "execution_count": 13,
   "metadata": {},
   "outputs": [],
   "source": [
    "lidar_file = './npy/1530509312596502000.npy'"
   ]
  },
  {
   "cell_type": "code",
   "execution_count": 14,
   "metadata": {},
   "outputs": [],
   "source": [
    "lidar = np.load(lidar_file)"
   ]
  },
  {
   "cell_type": "code",
   "execution_count": 16,
   "metadata": {},
   "outputs": [
    {
     "data": {
      "text/plain": [
       "numpy.ndarray"
      ]
     },
     "execution_count": 16,
     "metadata": {},
     "output_type": "execute_result"
    }
   ],
   "source": [
    "type(lidar)"
   ]
  },
  {
   "cell_type": "code",
   "execution_count": 17,
   "metadata": {},
   "outputs": [],
   "source": [
    "surround, surround_img = lidar_to_surround(lidar)"
   ]
  },
  {
   "cell_type": "code",
   "execution_count": 18,
   "metadata": {},
   "outputs": [],
   "source": [
    "surround_img_file = '1530509312596502000.png'"
   ]
  },
  {
   "cell_type": "code",
   "execution_count": 24,
   "metadata": {},
   "outputs": [
    {
     "data": {
      "text/plain": [
       "True"
      ]
     },
     "execution_count": 24,
     "metadata": {},
     "output_type": "execute_result"
    }
   ],
   "source": [
    "cv2.imwrite(surround_img_file,surround_img)"
   ]
  },
  {
   "cell_type": "code",
   "execution_count": 20,
   "metadata": {},
   "outputs": [
    {
     "name": "stdout",
     "output_type": "stream",
     "text": [
      "total 36\r\n",
      "-rw-r--r-- 1 root     root     6516 Dec  3 06:46 1530509312596502000.png\r\n",
      "-rw-r--r-- 1 root     root     1472 Dec  3 06:38 Untitled.ipynb\r\n",
      "-rw-rw-r-- 1 adioshun adioshun    0 Dec  3 06:17 main.py\r\n",
      "drwxr-xr-x 2 root     root     4096 Dec  3 06:42 npy\r\n",
      "-rw-rw-r-- 1 adioshun adioshun 4173 Dec  3 06:42 run_dump_lidar.py\r\n",
      "-rw-r--r-- 1 root     root     7235 Dec  3 06:46 surround_view.ipynb\r\n"
     ]
    }
   ],
   "source": [
    "!ls -l"
   ]
  },
  {
   "cell_type": "code",
   "execution_count": 25,
   "metadata": {},
   "outputs": [
    {
     "data": {
      "image/png": "[encoded data removed]",
      "text/plain": [
       "<IPython.core.display.Image object>"
      ]
     },
     "execution_count": 25,
     "metadata": {},
     "output_type": "execute_result"
    }
   ],
   "source": [
    "from IPython.display import Image\n",
    "Image(filename='1530509312596502000.png') "
   ]
  },
  {
   "cell_type": "code",
   "execution_count": null,
   "metadata": {},
   "outputs": [],
   "source": [
    "!jupyter nbconvert --to html surround_view.ipynb"
   ]
  }
 ],
 "metadata": {
  "kernelspec": {
   "display_name": "Python 2",
   "language": "python",
   "name": "python2"
  },
  "language_info": {
   "codemirror_mode": {
    "name": "ipython",
    "version": 2
   },
   "file_extension": ".py",
   "mimetype": "text/x-python",
   "name": "python",
   "nbconvert_exporter": "python",
   "pygments_lexer": "ipython2",
   "version": "2.7.12"
  },
  "toc": {
   "base_numbering": 1,
   "nav_menu": {},
   "number_sections": true,
   "sideBar": true,
   "skip_h1_title": false,
   "title_cell": "Table of Contents",
   "title_sidebar": "Contents",
   "toc_cell": false,
   "toc_position": {},
   "toc_section_display": true,
   "toc_window_display": false
  },
  "varInspector": {
   "cols": {
    "lenName": 16,
    "lenType": 16,
    "lenVar": 40
   },
   "kernels_config": {
    "python": {
     "delete_cmd_postfix": "",
     "delete_cmd_prefix": "del ",
     "library": "var_list.py",
     "varRefreshCmd": "print(var_dic_list())"
    },
    "r": {
     "delete_cmd_postfix": ") ",
     "delete_cmd_prefix": "rm(",
     "library": "var_list.r",
     "varRefreshCmd": "cat(var_dic_list()) "
    }
   },
   "types_to_exclude": [
    "module",
    "function",
    "builtin_function_or_method",
    "instance",
    "_Feature"
   ],
   "window_display": false
  }
 },
 "nbformat": 4,
 "nbformat_minor": 2
}
