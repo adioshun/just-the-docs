{
 "cells": [
  {
   "cell_type": "markdown",
   "metadata": {},
   "source": [
    "## Radius Outlier Removal filter\n",
    "\n",
    "본 챕터에서는 Noise 제거 방법 중 하나인 Radius Outlier Removal filter에 대하여 다루고 있습니다.\n",
    "\n",
    "지정된 반경안에 지정된 수 만큼의 포인트가 없을 경우 outlier로 판단 합니다. (`You must specify a search radius and the minimum number of neighbors than a point must have to avoid being labelled as outlier`)\n",
    "\n",
    "자세한 내용은 [Removing outliers using a Conditional or RadiusOutlier removal](http://pointclouds.org/documentation/tutorials/remove_outliers.php#remove-outliers)를 참고 하시면 됩니다.  \n",
    "\n",
    "> **[중요]** 현재 정상 동작 하지 않는다고 합니다. 파라미터를 바꾸어도 결과가 '0'이라고 하네요. [[참고]](https://github.com/strawlab/python-pcl/issues/211) - 2018.06.11"
   ]
  },
  {
   "cell_type": "code",
   "execution_count": 54,
   "metadata": {},
   "outputs": [
    {
     "name": "stdout",
     "output_type": "stream",
     "text": [
      "2018-11-23 \n",
      "\n",
      "CPython 3.5.2\n",
      "IPython 6.4.0\n",
      "\n",
      "pcl unknown\n",
      "numpy 1.14.5\n"
     ]
    }
   ],
   "source": [
    "%load_ext watermark\n",
    "%watermark -d -v -p pcl,numpy"
   ]
  },
  {
   "cell_type": "code",
   "execution_count": 55,
   "metadata": {},
   "outputs": [],
   "source": [
    "# -*- coding: utf-8 -*-\n",
    "from __future__ import print_function\n",
    "import pcl\n",
    "import numpy as np\n",
    "import random\n",
    "\n",
    "import os\n",
    "os.chdir(\"/workspace/3D_People_Detection_Tracking\") "
   ]
  },
  {
   "cell_type": "code",
   "execution_count": 56,
   "metadata": {},
   "outputs": [],
   "source": [
    "from include.visualization_helper import *\n",
    "%matplotlib inline"
   ]
  },
  {
   "cell_type": "markdown",
   "metadata": {},
   "source": [
    "## Radius_outlier_filtering 정의\n",
    "\n",
    "입력 \n",
    "- pcl_data : point cloud\n",
    "- radius_search : 검색 반경\n",
    "- Min_Neighbors : Noise로 간주되지 않을 최소 poin 수 \n",
    "\n",
    "출력  \n",
    "- point cloud"
   ]
  },
  {
   "cell_type": "code",
   "execution_count": 57,
   "metadata": {},
   "outputs": [],
   "source": [
    "def do_radius_outlier_filtering(pcl_data, radius_search,Min_Neighbors):\n",
    "    '''\n",
    "    :param pcl_data: point could data subscriber\n",
    "    :radius_search:  \n",
    "    :Min_Neighbors : a number of neighbors which every index must have \n",
    "                     within a specified radius to remain in the PointCloud  \n",
    "    :return: point cloud data\n",
    "    eg) cloud = do_radius_outlier_filtering(cloud,0.8, 2)\n",
    "    :https://github.com/hunjung-lim/3D_People_Detection_Tracking\n",
    "    '''\n",
    "    outrem = pcl_data.make_RadiusOutlierRemoval()\n",
    "    outrem.set_radius_search(radius_search)\n",
    "    outrem.set_MinNeighborsInRadius(Min_Neighbors)\n",
    "    \n",
    "    return outrem.filter ()"
   ]
  },
  {
   "cell_type": "markdown",
   "metadata": {},
   "source": [
    "## 랜덤 Point Cloud 생성"
   ]
  },
  {
   "cell_type": "code",
   "execution_count": 58,
   "metadata": {},
   "outputs": [],
   "source": [
    "cloud = pcl.PointCloud()\n",
    "\n",
    "points = np.zeros((5, 3), dtype=np.float32)\n",
    "RAND_MAX = 1024.0\n",
    "for i in range(0, 5):\n",
    "    points[i][0] = 1024 * random.random () / RAND_MAX\n",
    "    points[i][1] = 1024 * random.random () / RAND_MAX\n",
    "    points[i][2] = 1024 * random.random () / RAND_MAX\n",
    "\n",
    "cloud.from_array(points)"
   ]
  },
  {
   "cell_type": "code",
   "execution_count": 59,
   "metadata": {},
   "outputs": [
    {
     "name": "stdout",
     "output_type": "stream",
     "text": [
      "Number of Points : 5\n",
      "x: 0.3189416527748108, y : 0.6415157318115234, z : 0.6303199529647827\n",
      "x: 0.6143890619277954, y : 0.9941856265068054, z : 0.8331842422485352\n",
      "x: 0.5174641609191895, y : 0.4453221261501312, z : 0.858452320098877\n",
      "x: 0.86646968126297, y : 0.34745171666145325, z : 0.44225549697875977\n",
      "x: 0.27557268738746643, y : 0.9309353232383728, z : 0.03610602021217346\n",
      "(x) : 0.6m\n",
      "(y) : 0.6m\n",
      "(z) : 0.8m\n"
     ]
    },
    {
     "data": {
      "image/png": "[encoded data removed]",
      "text/plain": [
       "<Figure size 1008x432 with 1 Axes>"
      ]
     },
     "metadata": {},
     "output_type": "display_data"
    }
   ],
   "source": [
    "print(\"Number of Points : {}\".format(cloud.size))\n",
    "for i in range(0, cloud.size):\n",
    "    print ('x: '  + str(cloud[i][0]) + ', y : ' + str(cloud[i][1])  + ', z : ' + str(cloud[i][2]))\n",
    "\n",
    "if (cloud.size!=0):\n",
    "    visualization2D_xyz(cloud.to_array())    "
   ]
  },
  {
   "cell_type": "markdown",
   "metadata": {},
   "source": [
    "## Radius_outlier_filtering수행"
   ]
  },
  {
   "cell_type": "code",
   "execution_count": 60,
   "metadata": {},
   "outputs": [],
   "source": [
    "radius_search = 0.08\n",
    "Min_Neighbors = 2"
   ]
  },
  {
   "cell_type": "code",
   "execution_count": 61,
   "metadata": {},
   "outputs": [],
   "source": [
    "cloud = do_radius_outlier_filtering(cloud, radius_search, Min_Neighbors)"
   ]
  },
  {
   "cell_type": "code",
   "execution_count": 62,
   "metadata": {},
   "outputs": [
    {
     "name": "stdout",
     "output_type": "stream",
     "text": [
      "Number of Points : 0\n"
     ]
    }
   ],
   "source": [
    "print(\"Number of Points : {}\".format(cloud.size))\n",
    "for i in range(0, cloud.size):\n",
    "    print ('x: '  + str(cloud[i][0]) + ', y : ' + str(cloud[i][1])  + ', z : ' + str(cloud[i][2]))\n",
    "\n",
    "if (cloud.size!=0):\n",
    "    visualization2D_xyz(cloud.to_array())    "
   ]
  }
 ],
 "metadata": {
  "kernelspec": {
   "display_name": "Python 2",
   "language": "python",
   "name": "python2"
  },
  "language_info": {
   "codemirror_mode": {
    "name": "ipython",
    "version": 3
   },
   "file_extension": ".py",
   "mimetype": "text/x-python",
   "name": "python",
   "nbconvert_exporter": "python",
   "pygments_lexer": "ipython3",
   "version": "3.5.2"
  }
 },
 "nbformat": 4,
 "nbformat_minor": 2
}
